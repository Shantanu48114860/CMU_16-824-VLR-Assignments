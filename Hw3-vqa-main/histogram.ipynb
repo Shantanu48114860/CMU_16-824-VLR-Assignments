{
 "cells": [
  {
   "cell_type": "code",
   "execution_count": 1,
   "metadata": {},
   "outputs": [],
   "source": [
    "import torch\n",
    "from matplotlib import pyplot as plt\n",
    "\n",
    "def Convert(tup, di):\n",
    "    di = dict(tup)\n",
    "    return di\n",
    "\n",
    "def countFreq(arr, n):\n",
    "    mp = dict()\n",
    "\n",
    "    # Traverse through array elements\n",
    "    # and count frequencies\n",
    "\n",
    "    for i in range(n):\n",
    "        if arr[i] in mp.keys():\n",
    "            mp[arr[i]] += 1\n",
    "        else:\n",
    "            mp[arr[i]] = 1\n",
    "\n",
    "    # Traverse through map and print\n",
    "    # frequencies\n",
    "\n",
    "    return mp"
   ]
  },
  {
   "cell_type": "code",
   "execution_count": 2,
   "metadata": {},
   "outputs": [
    {
     "name": "stdout",
     "output_type": "stream",
     "text": [
      "loading VQA annotations and questions into memory...\n",
      "creating index...\n",
      "index created!\n"
     ]
    }
   ],
   "source": [
    "import os\n",
    "from vqa_dataset import VQADataset\n",
    "os.environ[\"TOKENIZERS_PARALLELISM\"] = \"false\"\n",
    "data_path = './data/'  # change this to your data path\n",
    "anno_file = data_path + 'mscoco_train2014_annotations.json'\n",
    "q_file = data_path + 'OpenEnded_mscoco_train2014_questions.json'\n",
    "image_dir = \"/ocean/projects/asc170022p/shg121/PhD/CMU-Visual-Learning-Recognition/Hw3-vqa-main/data/train2014\"\n",
    "image_filename_pattern = \"COCO_train2014_{}.jpg\"\n",
    "vqa_ds = VQADataset(\n",
    "        image_dir=image_dir,\n",
    "        question_json_file_path=q_file,\n",
    "        annotation_json_file_path=anno_file,\n",
    "        image_filename_pattern=image_filename_pattern\n",
    "    )"
   ]
  },
  {
   "cell_type": "code",
   "execution_count": 3,
   "metadata": {},
   "outputs": [],
   "source": [
    "def plot_hist(out, title):\n",
    "    print(out.size())\n",
    "    out = out.tolist()\n",
    "    mp = countFreq(out, len(out))\n",
    "    mp_sorted = sorted(mp.items(), key=lambda x: x[1], reverse=True)\n",
    "    # print(mp_sorted)\n",
    "\n",
    "    mp_sorted_dict = {}\n",
    "    mp_sorted_dict = Convert(mp_sorted, mp_sorted_dict)\n",
    "    answer_to_id_map = vqa_ds.answer_to_id_map\n",
    "    answer_to_id_map['other'] = 5216\n",
    "#     print(mp_sorted_dict)\n",
    "    keys = list(mp_sorted_dict.keys())\n",
    "    keys = [int(keys) for keys in keys]\n",
    "    values = list(mp_sorted_dict.values())\n",
    "    ans_keys = list(answer_to_id_map.keys())\n",
    "    ans_vals = list(answer_to_id_map.values())\n",
    "    ans_txt = []\n",
    "    for key in keys:\n",
    "        ans_txt.append(ans_keys[ans_vals.index(key)])\n",
    "\n",
    "    # fig = plt.figure(figsize = (10, 10))\n",
    "    fig, ax = plt.subplots(figsize=(10, 5))\n",
    "    # creating the bar plot\n",
    "    \n",
    "    ax.bar(ans_txt, list(mp_sorted_dict.values()), width=5)\n",
    "    ax.set_ylim([0, 1000])\n",
    "    plt.tick_params(\n",
    "        axis='x',          # changes apply to the x-axis\n",
    "        which='both',      # both major and minor ticks are affected\n",
    "        bottom=False,      # ticks along the bottom edge are off\n",
    "        top=False,         # ticks along the top edge are off\n",
    "        labelbottom=False) \n",
    "    # plt.xlabel(\"Courses offered\")\n",
    "    # plt.ylabel(\"No. of students enrolled\")\n",
    "    plt.title(\"Transformer model\")\n",
    "    plt.show()\n",
    "\n",
    "    print(ans_txt[0:10])\n",
    "    list(mp_sorted_dict.values())[0:10]"
   ]
  },
  {
   "cell_type": "code",
   "execution_count": 4,
   "metadata": {},
   "outputs": [
    {
     "name": "stdout",
     "output_type": "stream",
     "text": [
      "torch.Size([121512])\n"
     ]
    },
    {
     "data": {
      "image/png": "[encoded data removed]",
      "text/plain": [
       "<Figure size 720x360 with 1 Axes>"
      ]
     },
     "metadata": {
      "needs_background": "light"
     },
     "output_type": "display_data"
    },
    {
     "name": "stdout",
     "output_type": "stream",
     "text": [
      "['yes', 'no', 'other', '2', 'white', 'red', 'blue', '4', 'black', 'yellow']\n"
     ]
    }
   ],
   "source": [
    "out = torch.load('output.pt')\n",
    "plot_hist(out, \"Transformer model\")"
   ]
  },
  {
   "cell_type": "code",
   "execution_count": 141,
   "metadata": {},
   "outputs": [
    {
     "name": "stdout",
     "output_type": "stream",
     "text": [
      "torch.Size([121512])\n",
      "torch.Size([121512])\n"
     ]
    },
    {
     "data": {
      "image/png": "[encoded data removed]",
      "text/plain": [
       "<Figure size 720x360 with 1 Axes>"
      ]
     },
     "metadata": {
      "needs_background": "light"
     },
     "output_type": "display_data"
    },
    {
     "name": "stdout",
     "output_type": "stream",
     "text": [
      "['yes', 'no', '2', 'white', 'other', 'red', 'blue', '1', '3', 'green']\n"
     ]
    }
   ],
   "source": [
    "gt = torch.load('gt.pt')\n",
    "out = gt.argmax(dim=1)\n",
    "# print(out.size())\n",
    "plot_hist(out, \"Transformer model\")"
   ]
  },
  {
   "cell_type": "code",
   "execution_count": 133,
   "metadata": {},
   "outputs": [],
   "source": []
  }
 ],
 "metadata": {
  "kernelspec": {
   "display_name": "python_3_7",
   "language": "python",
   "name": "python_3_7"
  },
  "language_info": {
   "codemirror_mode": {
    "name": "ipython",
    "version": 3
   },
   "file_extension": ".py",
   "mimetype": "text/x-python",
   "name": "python",
   "nbconvert_exporter": "python",
   "pygments_lexer": "ipython3",
   "version": "3.7.11"
  }
 },
 "nbformat": 4,
 "nbformat_minor": 4
}
